{
 "cells": [
  {
   "cell_type": "code",
   "execution_count": 1,
   "metadata": {},
   "outputs": [],
   "source": [
    "import pandas as pd\n",
    "import matplotlib.pyplot as plt\n",
    "import os.path as osp\n",
    "import matplotlib.pyplot as plt\n",
    "import matplotlib.image as mpimg\n",
    "import numpy as np\n",
    "from glob import glob\n",
    "\n",
    "pd.set_option(\"display.max_rows\", 500)\n",
    "pd.set_option(\"display.max_columns\", 500)\n",
    "pd.set_option(\"display.width\", 5000)\n",
    "pd.set_option(\"display.max_colwidth\", 5000)\n",
    "plt.style.use(\"science\")"
   ]
  },
  {
   "cell_type": "code",
   "execution_count": 19,
   "metadata": {},
   "outputs": [
    {
     "name": "stdout",
     "output_type": "stream",
     "text": [
      "Clothing_Shoes_and_Jewelry\n",
      "Number of item pairs:  53375\n",
      "Number of unique categories:  126\n",
      "Number of cateogry pairs:  4621\n",
      "avg item in category:  asin_src    115.809524\n",
      "dtype: float64\n",
      "max item in category:  asin_src    808\n",
      "dtype: int64\n",
      "min item in category:  asin_src    12\n",
      "dtype: int64\n",
      "\n",
      "Toys_and_Games\n",
      "Number of item pairs:  112964\n",
      "Number of unique categories:  124\n",
      "Number of cateogry pairs:  5734\n",
      "avg item in category:  asin_src    165.451613\n",
      "dtype: float64\n",
      "max item in category:  asin_src    2558\n",
      "dtype: int64\n",
      "min item in category:  asin_src    16\n",
      "dtype: int64\n",
      "\n",
      "Home_and_Kitchen\n",
      "Number of item pairs:  162497\n",
      "Number of unique categories:  286\n",
      "Number of cateogry pairs:  18999\n",
      "avg item in category:  asin_src    102.346154\n",
      "dtype: float64\n",
      "max item in category:  asin_src    796\n",
      "dtype: int64\n",
      "min item in category:  asin_src    11\n",
      "dtype: int64\n",
      "\n"
     ]
    }
   ],
   "source": [
    "# Load artifacts\n",
    "dataset_names = [\"Clothing_Shoes_and_Jewelry\",\"Toys_and_Games\",\"Home_and_Kitchen\"]\n",
    "\n",
    "for dataset_name in dataset_names:\n",
    "    df = pd.read_pickle(\n",
    "        f\"/Users/kbibas/datasets/fbt_research/data/final/{dataset_name}_sets.pkl\"\n",
    "    )\n",
    "    print(dataset_name)\n",
    "    # How much categories\n",
    "    print('Number of item pairs: ', len(df))\n",
    "    print('Number of unique categories: ',len(df.category_int_src.unique()))\n",
    "    print('Number of cateogry pairs: ', len(df[['category_int_src','category_int_target']].drop_duplicates()))\n",
    "    print('avg item in category: ', df[['category_int_src','asin_src']].drop_duplicates().groupby('category_int_src').count().mean())\n",
    "    print('max item in category: ', df[['category_int_src','asin_src']].drop_duplicates().groupby('category_int_src').count().max())\n",
    "    print('min item in category: ', df[['category_int_src','asin_src']].drop_duplicates().groupby('category_int_src').count().min())\n",
    "    \n",
    "    print()"
   ]
  },
  {
   "cell_type": "code",
   "execution_count": 10,
   "metadata": {},
   "outputs": [
    {
     "name": "stdout",
     "output_type": "stream",
     "text": [
      "126\n",
      "53375\n",
      "4621\n"
     ]
    }
   ],
   "source": [
    "# How much categories\n",
    "print(len(df.category_int_src.unique()))\n",
    "print(len(df))\n",
    "print(len(df[['category_int_src','category_int_target']].drop_duplicates()))"
   ]
  },
  {
   "cell_type": "code",
   "execution_count": 17,
   "metadata": {},
   "outputs": [
    {
     "data": {
      "text/plain": [
       "asin_src    102.346154\n",
       "dtype: float64"
      ]
     },
     "execution_count": 17,
     "metadata": {},
     "output_type": "execute_result"
    }
   ],
   "source": []
  },
  {
   "cell_type": "code",
   "execution_count": null,
   "metadata": {},
   "outputs": [],
   "source": []
  }
 ],
 "metadata": {
  "kernelspec": {
   "display_name": "Python 3.10.5 ('fbt')",
   "language": "python",
   "name": "python3"
  },
  "language_info": {
   "codemirror_mode": {
    "name": "ipython",
    "version": 3
   },
   "file_extension": ".py",
   "mimetype": "text/x-python",
   "name": "python",
   "nbconvert_exporter": "python",
   "pygments_lexer": "ipython3",
   "version": "3.10.4"
  },
  "orig_nbformat": 4,
  "vscode": {
   "interpreter": {
    "hash": "71d83aebe5446766694bc2069d9123f1ea29cc76019aa36928fe78bf4aa768c1"
   }
  }
 },
 "nbformat": 4,
 "nbformat_minor": 2
}
